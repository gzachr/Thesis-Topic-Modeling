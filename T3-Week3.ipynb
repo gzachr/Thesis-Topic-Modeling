{
 "cells": [
  {
   "cell_type": "code",
   "execution_count": 1,
   "id": "9dd77bf8",
   "metadata": {},
   "outputs": [],
   "source": [
    "import csv\n",
    "import os\n",
    "\n",
    "# Paths to output directories\n",
    "titles_dir = 'video_titles'\n",
    "tags_dir = 'video_tags'\n",
    "\n",
    "# Create output directories if they don't exist\n",
    "os.makedirs(titles_dir, exist_ok=True)\n",
    "os.makedirs(tags_dir, exist_ok=True)\n",
    "\n",
    "# Input CSV file path\n",
    "csv_file_path = 'Final_PB_Videos.csv'  # Replace with your actual file name\n",
    "\n",
    "# Open and read the CSV\n",
    "with open(csv_file_path, newline='', encoding='utf-8') as csvfile:\n",
    "    reader = csv.reader(csvfile)\n",
    "    header = next(reader)  # Skip header row\n",
    "\n",
    "    for row in reader:\n",
    "        video_id = row[0].strip()\n",
    "        video_title = row[1].strip()\n",
    "        raw_tags = row[3].strip()\n",
    "\n",
    "        # Clean tag string\n",
    "        cleaned_tags = raw_tags.strip(\"[]\")  # remove square brackets\n",
    "        cleaned_tags = cleaned_tags.replace(\"'\", \"\").replace('\"', \"\")  # remove quotes\n",
    "        cleaned_tags = \", \".join([tag.strip() for tag in cleaned_tags.split(\",\") if tag.strip()])\n",
    "\n",
    "        # Write the title to a file\n",
    "        with open(os.path.join(titles_dir, f'{video_id}.txt'), 'w', encoding='utf-8') as title_file:\n",
    "            title_file.write(video_title)\n",
    "\n",
    "        # Write the cleaned tags to a file\n",
    "        with open(os.path.join(tags_dir, f'{video_id}.txt'), 'w', encoding='utf-8') as tags_file:\n",
    "            tags_file.write(cleaned_tags)\n"
   ]
  }
 ],
 "metadata": {
  "kernelspec": {
   "display_name": "Python 3",
   "language": "python",
   "name": "python3"
  },
  "language_info": {
   "codemirror_mode": {
    "name": "ipython",
    "version": 3
   },
   "file_extension": ".py",
   "mimetype": "text/x-python",
   "name": "python",
   "nbconvert_exporter": "python",
   "pygments_lexer": "ipython3",
   "version": "3.12.6"
  }
 },
 "nbformat": 4,
 "nbformat_minor": 5
}
