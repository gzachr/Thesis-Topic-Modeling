{
 "cells": [
  {
   "cell_type": "code",
   "execution_count": null,
   "metadata": {},
   "outputs": [],
   "source": [
    "# Store results as a flat list\n",
    "import json\n",
    "\n",
    "nodes_filename = 'standard_test_1.nodes.json'\n",
    "nodes_filepath = './HLTM/output-jsons/' + nodes_filename\n",
    "\n",
    "with open(nodes_filepath, 'r') as f:\n",
    "    data = json.load(f)\n",
    "\n",
    "def flatten_tree(node, depth=1, result=[]):\n",
    "    \"\"\"Recursively flattens a tree structure into a list.\"\"\"\n",
    "    result.append({\n",
    "        \"id\": node[\"id\"],\n",
    "        \"texts\": node[\"text\"].split(),\n",
    "        \"level\": depth\n",
    "    })\n",
    "    \n",
    "    for child in node.get(\"children\", []):\n",
    "        flatten_tree(child, depth + 1, result)\n",
    "    \n",
    "    return result\n",
    "\n",
    "# Process each root node in the JSON\n",
    "flat_list = []\n",
    "for root in data:\n",
    "    flat_list.extend(flatten_tree(root))\n",
    "\n",
    "print(flat_list)"
   ]
  },
  {
   "cell_type": "code",
   "execution_count": null,
   "metadata": {},
   "outputs": [],
   "source": [
    "from collections import defaultdict\n",
    "\n",
    "topic_map_filepath = './HLTM/output-jsons/' + 'standard_test_1.topics.json'\n",
    "\n",
    "with open(topic_map_filepath, 'r') as f:\n",
    "    topic_mapping_data = json.load(f)\n",
    "\n",
    "topic_ids_per_vid_mapping = defaultdict(list)\n",
    "\n",
    "# use dictionary to change mapping to list topics per video\n",
    "# doc id serves as the grouping key\n",
    "for topic_obj in topic_mapping_data:\n",
    "    topic = topic_obj[\"topic\"]\n",
    "    \n",
    "    for doc_entry in topic_obj[\"doc\"]:\n",
    "        doc_number, probability = doc_entry\n",
    "        topic_ids_per_vid_mapping[doc_number].append((topic, probability))\n",
    "\n",
    "\n",
    "# Document numbers are based on the order they are fed into the HLTA model or which line they are in orig text file, starts from 0 til n"
   ]
  },
  {
   "cell_type": "code",
   "execution_count": null,
   "metadata": {},
   "outputs": [],
   "source": [
    "# link the top words to the video instead of just the topic id\n",
    "topic_to_words = {entry[\"id\"]: (\", \".join(entry[\"texts\"]), entry[\"level\"]) for entry in flat_list}\n",
    "\n",
    "\n",
    "# Step 2: Convert topic_mapping_data into topics_per_vid_mapping\n",
    "for topic_obj in topic_mapping_data:\n",
    "    topic = topic_obj[\"topic\"]\n",
    "    for doc_entry in topic_obj[\"doc\"]:\n",
    "        doc_number, probability = doc_entry\n",
    "        topic_ids_per_vid_mapping[doc_number].append((topic, probability))\n",
    "\n",
    "# Step 3: Store transformed data in a new dictionary\n",
    "topic_words_per_vid_mapping = defaultdict(list)\n",
    "\n",
    "for doc, topic_list in topic_ids_per_vid_mapping.items():\n",
    "    for t, p in topic_list:\n",
    "        if t in topic_to_words:\n",
    "            topic_words, level = topic_to_words[t]\n",
    "            topic_words_per_vid_mapping[doc].append((topic_words, level, p))\n",
    "        else:\n",
    "            topic_words_per_vid_mapping[doc].append((t, None, p))  # Handle case where topic ID is not found\n",
    "\n",
    "# Step 4: Print the results\n",
    "for doc, topic_list in topic_words_per_vid_mapping.items():\n",
    "    topics_str = \", \".join(f\"{t} (Level {lvl}): {p:.2f}\" if lvl is not None else f\"{t}: {p:.2f}\" for t, lvl, p in topic_list)\n",
    "    print(f\"Document {doc} - {topics_str}\")"
   ]
  },
  {
   "cell_type": "code",
   "execution_count": null,
   "metadata": {},
   "outputs": [],
   "source": [
    "# append into main dataframe\n",
    "for doc, topic_list in topic_words_per_vid_mapping.items():\n",
    "    t = \"\"\n",
    "    for topic in topic_list:\n",
    "       t += topic[0] + \" : Level \" + str(topic[1]) + \" ({:.2f})\".format(topic[2]) + '\\n'\n",
    "\n",
    "    topics_per_video_df.iloc[int(doc), 3] = t\n",
    "\n",
    "topics_per_video_df\n"
   ]
  }
 ],
 "metadata": {
  "kernelspec": {
   "display_name": "Python 3",
   "language": "python",
   "name": "python3"
  },
  "language_info": {
   "name": "python",
   "version": "3.11.4"
  }
 },
 "nbformat": 4,
 "nbformat_minor": 2
}
