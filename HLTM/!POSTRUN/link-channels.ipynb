{
 "cells": [
  {
   "cell_type": "code",
   "execution_count": 2,
   "id": "de896652",
   "metadata": {},
   "outputs": [],
   "source": [
    "import pandas as pd\n",
    "import os\n",
    "\n",
    "# Load the CSV file into a DataFrame\n",
    "df = pd.read_csv(\"T3-topics-per-vid.csv\")\n",
    "\n",
    "# Extract video ID from the YouTube link\n",
    "from urllib.parse import urlparse, parse_qs\n",
    "\n",
    "def extract_video_id(url):\n",
    "    query = urlparse(url).query\n",
    "    return parse_qs(query).get(\"v\", [None])[0]\n",
    "\n",
    "df[\"Video ID\"] = df[\"Link\"].apply(extract_video_id)\n",
    "\n",
    "# Initialize new columns\n",
    "df[\"Channel Name\"] = None\n",
    "df[\"Channel Link\"] = None\n",
    "\n",
    "# Folder where .txt files are stored\n",
    "txt_folder = \"../../channels/\"  # adjust path if needed\n",
    "\n",
    "# Process all .txt files\n",
    "for filename in os.listdir(txt_folder):\n",
    "    if filename.endswith(\".txt\"):\n",
    "        video_id = filename.replace(\".txt\", \"\")\n",
    "        with open(os.path.join(txt_folder, filename), \"r\", encoding=\"utf-8\") as file:\n",
    "            line = file.read().strip()\n",
    "            if \",\" in line:\n",
    "                channel_id, channel_name = line.split(\",\", 1)\n",
    "                df.loc[df[\"Video ID\"] == video_id, \"Channel Name\"] = channel_name\n",
    "                df.loc[df[\"Video ID\"] == video_id, \"Channel Link\"] = f\"https://www.youtube.com/channel/{channel_id}\"\n",
    "\n",
    "# Optional: save updated DataFrame\n",
    "df.to_csv(\"T3-topics-per-vid-with-channels.csv\", index=False)\n"
   ]
  }
 ],
 "metadata": {
  "kernelspec": {
   "display_name": "Python 3",
   "language": "python",
   "name": "python3"
  },
  "language_info": {
   "codemirror_mode": {
    "name": "ipython",
    "version": 3
   },
   "file_extension": ".py",
   "mimetype": "text/x-python",
   "name": "python",
   "nbconvert_exporter": "python",
   "pygments_lexer": "ipython3",
   "version": "3.11.4"
  }
 },
 "nbformat": 4,
 "nbformat_minor": 5
}
