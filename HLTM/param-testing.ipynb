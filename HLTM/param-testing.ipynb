{
 "cells": [
  {
   "cell_type": "code",
   "execution_count": 2,
   "id": "0401472f",
   "metadata": {},
   "outputs": [
    {
     "name": "stdout",
     "output_type": "stream",
     "text": [
      "\n",
      "Processing: 2-15-25-none.nodes.json\n",
      "Total Coherence (u_mass): -3.2702709524036218\n",
      "\n",
      "Processing: 2-5-20-3.nodes.json\n",
      "Total Coherence (u_mass): -4.137619198533649\n",
      "\n",
      "Processing: 3-15-30-5.nodes.json\n",
      "Total Coherence (u_mass): -3.582806663280821\n",
      "\n",
      "Processing: base.nodes.json\n",
      "Total Coherence (u_mass): -3.074685605006344\n"
     ]
    }
   ],
   "source": [
    "import os\n",
    "import json\n",
    "from gensim.models.coherencemodel import CoherenceModel\n",
    "from gensim.corpora.dictionary import Dictionary\n",
    "from gensim.utils import simple_preprocess\n",
    "\n",
    "# Define the folder paths\n",
    "json_folder = 'hyper-param-testing-outputs/'\n",
    "text_file_path = 'T3-new-stopwords.txt'  # Assuming same text corpus is used for all\n",
    "\n",
    "# Load and preprocess the raw corpus\n",
    "with open(text_file_path, 'r') as file:\n",
    "    raw_corpus = file.readlines()\n",
    "\n",
    "tokenized_corpus = [simple_preprocess(doc) for doc in raw_corpus]\n",
    "\n",
    "# Iterate through all JSON files in the folder\n",
    "for filename in os.listdir(json_folder):\n",
    "    if filename.endswith('.json'):\n",
    "        filepath = os.path.join(json_folder, filename)\n",
    "        print(f\"\\nProcessing: {filename}\")\n",
    "\n",
    "        # Load the JSON file\n",
    "        with open(filepath, 'r') as f:\n",
    "            data = json.load(f)\n",
    "\n",
    "        # Flatten the tree structure\n",
    "        def flatten_tree(node, depth=1, result=None):\n",
    "            if result is None:\n",
    "                result = []\n",
    "            result.append({\n",
    "                \"id\": node[\"id\"],\n",
    "                \"texts\": node[\"text\"].split(),\n",
    "                \"level\": depth\n",
    "            })\n",
    "            for child in node.get(\"children\", []):\n",
    "                flatten_tree(child, depth + 1, result)\n",
    "            return result\n",
    "\n",
    "        flat_list = []\n",
    "        for root in data:\n",
    "            flat_list.extend(flatten_tree(root))\n",
    "\n",
    "        topic_list = [item[\"texts\"] for item in flat_list]\n",
    "\n",
    "        # Create dictionary and corpus for the topics\n",
    "        dictionary = Dictionary(topic_list)\n",
    "        corpus = [dictionary.doc2bow(text) for text in tokenized_corpus]\n",
    "\n",
    "        # Compute total u_mass coherence\n",
    "        cm_umass = CoherenceModel(\n",
    "            topics=topic_list,\n",
    "            corpus=corpus,\n",
    "            dictionary=dictionary,\n",
    "            coherence='u_mass'\n",
    "        )\n",
    "        print(\"Total Coherence (u_mass):\", cm_umass.get_coherence())\n",
    "\n",
    "        # Optionally: compute individual coherence scores per topic\n",
    "        # Uncomment below if needed\n",
    "        # individual_coherence_scores = []\n",
    "        # for topic in topic_list:\n",
    "        #     cm = CoherenceModel(topics=[topic], corpus=corpus, dictionary=dictionary, coherence='u_mass')\n",
    "        #     score = cm.get_coherence()\n",
    "        #     individual_coherence_scores.append(score)\n",
    "        # print(\"Individual topic coherence scores:\", individual_coherence_scores)\n"
   ]
  }
 ],
 "metadata": {
  "kernelspec": {
   "display_name": "Python 3",
   "language": "python",
   "name": "python3"
  },
  "language_info": {
   "codemirror_mode": {
    "name": "ipython",
    "version": 3
   },
   "file_extension": ".py",
   "mimetype": "text/x-python",
   "name": "python",
   "nbconvert_exporter": "python",
   "pygments_lexer": "ipython3",
   "version": "3.11.4"
  }
 },
 "nbformat": 4,
 "nbformat_minor": 5
}
