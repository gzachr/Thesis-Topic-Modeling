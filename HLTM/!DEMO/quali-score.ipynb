{
 "cells": [
  {
   "cell_type": "code",
   "execution_count": 1,
   "metadata": {},
   "outputs": [
    {
     "data": {
      "text/html": [
       "<div>\n",
       "<style scoped>\n",
       "    .dataframe tbody tr th:only-of-type {\n",
       "        vertical-align: middle;\n",
       "    }\n",
       "\n",
       "    .dataframe tbody tr th {\n",
       "        vertical-align: top;\n",
       "    }\n",
       "\n",
       "    .dataframe thead th {\n",
       "        text-align: right;\n",
       "    }\n",
       "</style>\n",
       "<table border=\"1\" class=\"dataframe\">\n",
       "  <thead>\n",
       "    <tr style=\"text-align: right;\">\n",
       "      <th></th>\n",
       "      <th>ID</th>\n",
       "      <th>Level</th>\n",
       "      <th>Topics</th>\n",
       "      <th>Topic Label</th>\n",
       "      <th>Conceptual Relation</th>\n",
       "      <th>Filipino Context</th>\n",
       "    </tr>\n",
       "  </thead>\n",
       "  <tbody>\n",
       "    <tr>\n",
       "      <th>0</th>\n",
       "      <td>Z140</td>\n",
       "      <td>4</td>\n",
       "      <td>driver busy journey</td>\n",
       "      <td>NaN</td>\n",
       "      <td>4</td>\n",
       "      <td>1</td>\n",
       "    </tr>\n",
       "    <tr>\n",
       "      <th>1</th>\n",
       "      <td>Z142</td>\n",
       "      <td>4</td>\n",
       "      <td>clothes shirt shoe bunch</td>\n",
       "      <td>NaN</td>\n",
       "      <td>4</td>\n",
       "      <td>1</td>\n",
       "    </tr>\n",
       "    <tr>\n",
       "      <th>2</th>\n",
       "      <td>Z139</td>\n",
       "      <td>4</td>\n",
       "      <td>flight airport plane</td>\n",
       "      <td>NaN</td>\n",
       "      <td>5</td>\n",
       "      <td>1</td>\n",
       "    </tr>\n",
       "    <tr>\n",
       "      <th>3</th>\n",
       "      <td>Z141</td>\n",
       "      <td>4</td>\n",
       "      <td>short luck wave</td>\n",
       "      <td>NaN</td>\n",
       "      <td>2</td>\n",
       "      <td>1</td>\n",
       "    </tr>\n",
       "    <tr>\n",
       "      <th>4</th>\n",
       "      <td>Z143</td>\n",
       "      <td>4</td>\n",
       "      <td>property concrete land</td>\n",
       "      <td>NaN</td>\n",
       "      <td>4</td>\n",
       "      <td>2</td>\n",
       "    </tr>\n",
       "  </tbody>\n",
       "</table>\n",
       "</div>"
      ],
      "text/plain": [
       "     ID  Level                    Topics  Topic Label  Conceptual Relation  \\\n",
       "0  Z140      4       driver busy journey          NaN                    4   \n",
       "1  Z142      4  clothes shirt shoe bunch          NaN                    4   \n",
       "2  Z139      4      flight airport plane          NaN                    5   \n",
       "3  Z141      4           short luck wave          NaN                    2   \n",
       "4  Z143      4    property concrete land          NaN                    4   \n",
       "\n",
       "   Filipino Context  \n",
       "0                 1  \n",
       "1                 1  \n",
       "2                 1  \n",
       "3                 1  \n",
       "4                 2  "
      ]
     },
     "execution_count": 1,
     "metadata": {},
     "output_type": "execute_result"
    }
   ],
   "source": [
    "import pandas as pd\n",
    "\n",
    "# Load the CSV file\n",
    "file_path = \"1800-quali-criteria.csv\"\n",
    "data = pd.read_csv(file_path)\n",
    "\n",
    "# Display the first few rows of the data\n",
    "data.head()"
   ]
  },
  {
   "cell_type": "code",
   "execution_count": 2,
   "metadata": {},
   "outputs": [
    {
     "name": "stdout",
     "output_type": "stream",
     "text": [
      "Average Conceptual Relation: 3.57703081232493\n",
      "Average Filipino Context: 2.3781512605042017\n"
     ]
    }
   ],
   "source": [
    "avg_conceptual_relation = data['Conceptual Relation'].mean()\n",
    "avg_filipino_context = data['Filipino Context'].mean()\n",
    "\n",
    "print(f\"Average Conceptual Relation: {avg_conceptual_relation}\")\n",
    "print(f\"Average Filipino Context: {avg_filipino_context}\")"
   ]
  },
  {
   "cell_type": "code",
   "execution_count": 7,
   "metadata": {},
   "outputs": [
    {
     "name": "stdout",
     "output_type": "stream",
     "text": [
      "Conceptual Relation per Level\n",
      "Level\n",
      "1    4.000000\n",
      "2    3.750000\n",
      "3    3.808219\n",
      "4    3.490347\n",
      "Name: Conceptual Relation, dtype: float64\n"
     ]
    }
   ],
   "source": [
    "avg_conceptual_relation_by_level = data.groupby('Level')['Conceptual Relation'].mean()\n",
    "print(\"Conceptual Relation per Level\")\n",
    "print(avg_conceptual_relation_by_level)"
   ]
  },
  {
   "cell_type": "code",
   "execution_count": 8,
   "metadata": {},
   "outputs": [
    {
     "name": "stdout",
     "output_type": "stream",
     "text": [
      "Filipino Context per Level\n",
      "Level\n",
      "1    3.400000\n",
      "2    2.950000\n",
      "3    2.616438\n",
      "4    2.247104\n",
      "Name: Filipino Context, dtype: float64\n"
     ]
    }
   ],
   "source": [
    "avg_conceptual_relation_by_level = data.groupby('Level')['Filipino Context'].mean()\n",
    "print(\"Filipino Context per Level\")\n",
    "print(avg_conceptual_relation_by_level)"
   ]
  },
  {
   "cell_type": "code",
   "execution_count": 10,
   "metadata": {},
   "outputs": [
    {
     "name": "stdout",
     "output_type": "stream",
     "text": [
      "Hierarchy Breakdown\n",
      "Level\n",
      "4    259\n",
      "3     73\n",
      "2     20\n",
      "1      5\n",
      "Name: count, dtype: int64\n"
     ]
    }
   ],
   "source": [
    "level_counts = data['Level'].value_counts()\n",
    "print(\"Hierarchy Breakdown\")\n",
    "print(level_counts)"
   ]
  }
 ],
 "metadata": {
  "kernelspec": {
   "display_name": "Python 3",
   "language": "python",
   "name": "python3"
  },
  "language_info": {
   "codemirror_mode": {
    "name": "ipython",
    "version": 3
   },
   "file_extension": ".py",
   "mimetype": "text/x-python",
   "name": "python",
   "nbconvert_exporter": "python",
   "pygments_lexer": "ipython3",
   "version": "3.11.4"
  }
 },
 "nbformat": 4,
 "nbformat_minor": 2
}
