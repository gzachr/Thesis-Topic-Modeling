{
 "cells": [
  {
   "cell_type": "code",
   "execution_count": 2,
   "metadata": {},
   "outputs": [],
   "source": [
    "# Store topics as list of lists\n",
    "import json\n",
    "# Load the JSON file\n",
    "filename = 'no-verb.nodes.json'\n",
    "filepath = './output-jsons/' + filename\n",
    "with open(filepath, 'r') as f:\n",
    "    data = json.load(f)\n",
    "\n",
    "def flatten_tree(node, depth=1, result=[]):\n",
    "    \"\"\"Recursively flattens a tree structure into a list.\"\"\"\n",
    "    result.append({\n",
    "        \"id\": node[\"id\"],\n",
    "        \"texts\": node[\"text\"].split(),\n",
    "        \"level\": depth\n",
    "    })\n",
    "    \n",
    "    for child in node.get(\"children\", []):\n",
    "        flatten_tree(child, depth + 1, result)\n",
    "    \n",
    "    return result\n",
    "\n",
    "# Process each root node in the JSON\n",
    "flat_list = []\n",
    "for root in data:\n",
    "    flat_list.extend(flatten_tree(root))"
   ]
  }
 ],
 "metadata": {
  "kernelspec": {
   "display_name": "Python 3",
   "language": "python",
   "name": "python3"
  },
  "language_info": {
   "codemirror_mode": {
    "name": "ipython",
    "version": 3
   },
   "file_extension": ".py",
   "mimetype": "text/x-python",
   "name": "python",
   "nbconvert_exporter": "python",
   "pygments_lexer": "ipython3",
   "version": "3.11.4"
  }
 },
 "nbformat": 4,
 "nbformat_minor": 2
}
