{
 "cells": [
  {
   "cell_type": "code",
   "execution_count": null,
   "id": "f32e8be5",
   "metadata": {},
   "outputs": [
    {
     "data": {
      "application/vnd.jupyter.widget-view+json": {
       "model_id": "35d310ee332f415ea35b4ad71539a230",
       "version_major": 2,
       "version_minor": 0
      },
      "text/plain": [
       "Dropdown(description='Category:', layout=Layout(width='80%'), options=(('Culture (26 topics)', 'Culture'), ('E…"
      ]
     },
     "metadata": {},
     "output_type": "display_data"
    },
    {
     "data": {
      "application/vnd.jupyter.widget-view+json": {
       "model_id": "8257a8bf92a140f7a5e6945d81917cc2",
       "version_major": 2,
       "version_minor": 0
      },
      "text/plain": [
       "Dropdown(description='Topic:', layout=Layout(width='80%'), options=(), value=None)"
      ]
     },
     "metadata": {},
     "output_type": "display_data"
    },
    {
     "data": {
      "application/vnd.jupyter.widget-view+json": {
       "model_id": "16026d5e016246d7b918d54be097cdb3",
       "version_major": 2,
       "version_minor": 0
      },
      "text/plain": [
       "Output()"
      ]
     },
     "metadata": {},
     "output_type": "display_data"
    }
   ],
   "source": [
    "import pandas as pd\n",
    "import ipywidgets as widgets\n",
    "from IPython.display import display, HTML, clear_output\n",
    "import html\n",
    "\n",
    "# Load your data\n",
    "topic_df = pd.read_csv(\"[T3 UPDATED] BERTopic-topics per segment.csv\")\n",
    "category_df = pd.read_csv(\"BERTopic w categories.csv\")\n",
    "\n",
    "# Prepare category list and count of topics per category\n",
    "category_counts = category_df.groupby('Category')['Topic #'].nunique().to_dict()\n",
    "categories = sorted(category_counts.keys())\n",
    "\n",
    "# Mapping: category -> list of (topic number, label, subtopics)\n",
    "category_to_topics = {\n",
    "    cat: list(zip(df['Topic #'], df['Label'], df['Subtopics']))\n",
    "    for cat, df in category_df.groupby('Category')\n",
    "}\n",
    "\n",
    "# Widgets\n",
    "category_dropdown = widgets.Dropdown(\n",
    "    options=[(f\"{cat} ({category_counts[cat]} topics)\", cat) for cat in categories],\n",
    "    description='Category:',\n",
    "    layout=widgets.Layout(width='80%')\n",
    ")\n",
    "\n",
    "topic_dropdown = widgets.Dropdown(\n",
    "    options=[],\n",
    "    description='Topic:',\n",
    "    layout=widgets.Layout(width='80%')\n",
    ")\n",
    "\n",
    "# Outputs\n",
    "main_output = widgets.Output()\n",
    "pagination_output = widgets.Output()\n",
    "\n",
    "# Pagination controls\n",
    "VIDEOS_PER_PAGE = 10\n",
    "current_page = 0\n",
    "grouped_videos = None\n",
    "total_pages = 0\n",
    "selected_topic_id = None\n",
    "\n",
    "prev_button = widgets.Button(description=\"Previous\", layout=widgets.Layout(width='100px'))\n",
    "next_button = widgets.Button(description=\"Next\", layout=widgets.Layout(width='100px'))\n",
    "page_label = widgets.Label()\n",
    "pagination_controls = widgets.HBox([prev_button, next_button, page_label])\n",
    "\n",
    "\n",
    "def update_topics(change):\n",
    "    selected_cat = change['new']\n",
    "    topics = category_to_topics.get(selected_cat, [])\n",
    "    options = [(f\"Topic {t[0]}: {t[2]} ({t[1]})\", t[0]) for t in topics]\n",
    "    topic_dropdown.options = options\n",
    "    topic_dropdown.value = options[0][1] if options else None\n",
    "\n",
    "def render_video_page(page_idx):\n",
    "    pagination_output.clear_output()\n",
    "    start_idx = page_idx * VIDEOS_PER_PAGE\n",
    "    end_idx = start_idx + VIDEOS_PER_PAGE\n",
    "\n",
    "    with pagination_output:\n",
    "        html_output = \"\"\n",
    "        for _, row in grouped_videos.iloc[start_idx:end_idx].iterrows():\n",
    "            video_id = html.escape(row['Video Id'])\n",
    "            video_title = html.escape(row['Video Title'])\n",
    "            segments = row['Segment']\n",
    "            segment_html = \"\".join(\n",
    "                f\"<div style='margin-bottom: 10px; padding-left: 10px;'>• {html.escape(seg)}</div>\" for seg in segments\n",
    "            )\n",
    "\n",
    "            html_output += f\"\"\"\n",
    "            <details>\n",
    "                <summary><b>{video_title}</b> ({video_id}) - {len(segments)} segments</summary>\n",
    "                <div style=\"margin-left: 20px; margin-top: 5px;\">{segment_html}</div>\n",
    "            </details>\n",
    "            <br>\n",
    "            \"\"\"\n",
    "        display(HTML(html_output))\n",
    "        page_label.value = f\"Page {current_page + 1} of {total_pages}\"\n",
    "\n",
    "def on_prev_clicked(_):\n",
    "    global current_page\n",
    "    if current_page > 0:\n",
    "        current_page -= 1\n",
    "        render_video_page(current_page)\n",
    "\n",
    "def on_next_clicked(_):\n",
    "    global current_page\n",
    "    if current_page + 1 < total_pages:\n",
    "        current_page += 1\n",
    "        render_video_page(current_page)\n",
    "\n",
    "prev_button.on_click(on_prev_clicked)\n",
    "next_button.on_click(on_next_clicked)\n",
    "\n",
    "def show_topic_info(change):\n",
    "    global grouped_videos, current_page, total_pages, selected_topic_id\n",
    "    main_output.clear_output()\n",
    "    pagination_output.clear_output()\n",
    "    selected_topic = change['new']\n",
    "    if selected_topic is None:\n",
    "        return\n",
    "\n",
    "    selected_topic_id = selected_topic\n",
    "    current_page = 0\n",
    "\n",
    "    with main_output:\n",
    "        # Filter rows with the selected topic\n",
    "        filtered_df = topic_df[topic_df['Topic'] == selected_topic]\n",
    "        grouped_videos = filtered_df.groupby(['Video Id', 'Video Title'])['Segment'].apply(list).reset_index()\n",
    "        total_pages = max(1, (len(grouped_videos) - 1) // VIDEOS_PER_PAGE + 1)\n",
    "\n",
    "        # Get topic info\n",
    "        row = category_df[category_df['Topic #'] == selected_topic].iloc[0]\n",
    "        original_name = row['Subtopics']\n",
    "        custom_label = row['Label']\n",
    "\n",
    "        # Summary header\n",
    "        display(HTML(f\"\"\"\n",
    "        <h3>Topic {selected_topic}: {html.escape(original_name)} (<i>{html.escape(custom_label)}</i>)</h3>\n",
    "        <b>Total Videos:</b> {len(grouped_videos)}<br>\n",
    "        <b>Total Segments:</b> {len(filtered_df)}<br><br>\n",
    "        \"\"\"))\n",
    "\n",
    "        # First render\n",
    "        render_video_page(current_page)\n",
    "        display(pagination_controls, pagination_output)\n",
    "\n",
    "# Connect widgets\n",
    "category_dropdown.observe(update_topics, names='value')\n",
    "topic_dropdown.observe(show_topic_info, names='value')\n",
    "\n",
    "# Show widgets\n",
    "display(category_dropdown, topic_dropdown, main_output)\n",
    "\n",
    "# Trigger initial population\n",
    "category_dropdown.value = categories[0]\n"
   ]
  }
 ],
 "metadata": {
  "kernelspec": {
   "display_name": "Python 3",
   "language": "python",
   "name": "python3"
  },
  "language_info": {
   "codemirror_mode": {
    "name": "ipython",
    "version": 3
   },
   "file_extension": ".py",
   "mimetype": "text/x-python",
   "name": "python",
   "nbconvert_exporter": "python",
   "pygments_lexer": "ipython3",
   "version": "3.9.6"
  }
 },
 "nbformat": 4,
 "nbformat_minor": 5
}
