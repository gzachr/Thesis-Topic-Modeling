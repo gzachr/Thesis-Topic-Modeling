{
 "cells": [
  {
   "cell_type": "code",
   "execution_count": 3,
   "id": "f32e8be5",
   "metadata": {},
   "outputs": [
    {
     "data": {
      "application/vnd.jupyter.widget-view+json": {
       "model_id": "35d310ee332f415ea35b4ad71539a230",
       "version_major": 2,
       "version_minor": 0
      },
      "text/plain": [
       "Dropdown(description='Category:', layout=Layout(width='80%'), options=(('Culture (26 topics)', 'Culture'), ('E…"
      ]
     },
     "metadata": {},
     "output_type": "display_data"
    },
    {
     "data": {
      "application/vnd.jupyter.widget-view+json": {
       "model_id": "8257a8bf92a140f7a5e6945d81917cc2",
       "version_major": 2,
       "version_minor": 0
      },
      "text/plain": [
       "Dropdown(description='Topic:', layout=Layout(width='80%'), options=(), value=None)"
      ]
     },
     "metadata": {},
     "output_type": "display_data"
    },
    {
     "data": {
      "application/vnd.jupyter.widget-view+json": {
       "model_id": "16026d5e016246d7b918d54be097cdb3",
       "version_major": 2,
       "version_minor": 0
      },
      "text/plain": [
       "Output()"
      ]
     },
     "metadata": {},
     "output_type": "display_data"
    }
   ],
   "source": [
    "import pandas as pd\n",
    "import ipywidgets as widgets\n",
    "from IPython.display import display, HTML\n",
    "\n",
    "# Load your datasets\n",
    "topic_df = pd.read_csv(\"[T3 UPDATED] BERTopic-topics per segment.csv\")\n",
    "category_df = pd.read_csv(\"BERTopic w categories.csv\") # Load your category mapping CSV\n",
    "\n",
    "# Prepare category list and count of topics per category\n",
    "category_counts = category_df.groupby('Category')['Topic #'].nunique().to_dict()\n",
    "categories = sorted(category_counts.keys())\n",
    "\n",
    "# Prepare a mapping: category -> list of topics (Topic # and labels)\n",
    "category_to_topics = {}\n",
    "for cat in categories:\n",
    "    subset = category_df[category_df['Category'] == cat]\n",
    "    # List of tuples: (topic number, label, original topic words)\n",
    "    category_to_topics[cat] = list(zip(subset['Topic #'], subset['Label'], subset['Subtopics']))\n",
    "\n",
    "# Create dropdowns\n",
    "category_dropdown = widgets.Dropdown(\n",
    "    options=[(f\"{cat} ({category_counts[cat]} topics)\", cat) for cat in categories],\n",
    "    description='Category:',\n",
    "    layout=widgets.Layout(width='80%')\n",
    ")\n",
    "\n",
    "topic_dropdown = widgets.Dropdown(\n",
    "    options=[],\n",
    "    description='Topic:',\n",
    "    layout=widgets.Layout(width='80%')\n",
    ")\n",
    "\n",
    "output = widgets.Output()\n",
    "\n",
    "def update_topics(change):\n",
    "    # Update topics dropdown when category changes\n",
    "    selected_cat = change['new']\n",
    "    topics = category_to_topics.get(selected_cat, [])\n",
    "    # Format topics with original name + label\n",
    "    options = [(f\"Topic {t[0]}: {t[2]} ({t[1]})\", t[0]) for t in topics]\n",
    "    topic_dropdown.options = options\n",
    "    if options:\n",
    "        topic_dropdown.value = options[0][1]  # select first topic by default\n",
    "    else:\n",
    "        topic_dropdown.value = None\n",
    "\n",
    "def show_topic_info(change):\n",
    "    output.clear_output()\n",
    "    selected_topic = change['new']\n",
    "    if selected_topic is None:\n",
    "        return\n",
    "    with output:\n",
    "        # Filter topic_df for the selected topic\n",
    "        filtered_df = topic_df[topic_df['Topic'] == selected_topic]\n",
    "        video_counts = filtered_df[['Video Id', 'Video Title']].drop_duplicates()\n",
    "        n_segments = len(filtered_df)\n",
    "        n_videos = len(video_counts)\n",
    "\n",
    "        # Get topic info from category_df for label and original topic name\n",
    "        row = category_df[category_df['Topic #'] == selected_topic].iloc[0]\n",
    "        original_name = row['Subtopics']\n",
    "        custom_label = row['Label']\n",
    "\n",
    "        # Display summary header with original and custom label\n",
    "        display(HTML(f\"<h3>Topic {selected_topic}: {original_name} ({custom_label})</h3>\"))\n",
    "        display(HTML(f\"<b>Total Videos:</b> {n_videos}\"))\n",
    "        display(HTML(f\"<b>Total Segments:</b> {n_segments}<br><br>\"))\n",
    "\n",
    "        # Maximize pandas display settings for full table view\n",
    "        pd.set_option('display.max_rows', None)\n",
    "        pd.set_option('display.max_columns', None)\n",
    "        pd.set_option('display.width', None)\n",
    "        pd.set_option('display.max_colwidth', None)\n",
    "\n",
    "        # Display table of unique videos for this topic\n",
    "        display(video_counts.reset_index(drop=True))\n",
    "\n",
    "# Wire up the event handlers\n",
    "category_dropdown.observe(update_topics, names='value')\n",
    "topic_dropdown.observe(show_topic_info, names='value')\n",
    "\n",
    "# Display widgets\n",
    "display(category_dropdown, topic_dropdown, output)\n",
    "\n",
    "# Trigger initial population of topics dropdown\n",
    "category_dropdown.value = categories[0]\n"
   ]
  }
 ],
 "metadata": {
  "kernelspec": {
   "display_name": "Python 3",
   "language": "python",
   "name": "python3"
  },
  "language_info": {
   "codemirror_mode": {
    "name": "ipython",
    "version": 3
   },
   "file_extension": ".py",
   "mimetype": "text/x-python",
   "name": "python",
   "nbconvert_exporter": "python",
   "pygments_lexer": "ipython3",
   "version": "3.9.6"
  }
 },
 "nbformat": 4,
 "nbformat_minor": 5
}
